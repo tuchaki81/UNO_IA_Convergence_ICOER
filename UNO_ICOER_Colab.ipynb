{
  "cells": [
    {
      "cell_type": "markdown",
      "metadata": {},
      "source": [
        "# UNO Convergent Resonance \u2013 Colab Edition\n",
        "Este notebook calcula o \u00cdndice de Converg\u00eancia UNO (ICU) com ICOER v7.0 usando m\u00faltiplas IAs.\n",
        "\ud83d\udd17 [Reposit\u00f3rio GitHub](https://github.com/tuchaki81/UNO_IA_Convergence_ICOER)"
      ]
    },
    {
      "cell_type": "code",
      "execution_count": null,
      "metadata": {},
      "outputs": [],
      "source": [
        "# \u2b07\ufe0f Etapa 1: Clonar o reposit\u00f3rio com o c\u00f3digo-fonte\n",
        "!git clone https://github.com/tuchaki81/UNO_IA_Convergence_ICOER.git\n",
        "%cd UNO_IA_Convergence_ICOER"
      ]
    },
    {
      "cell_type": "code",
      "execution_count": null,
      "metadata": {},
      "outputs": [],
      "source": [
        "# \u2b07\ufe0f Etapa 2: Instalar spaCy e modelo de linguagem portugu\u00eas\n",
        "!pip install -U spacy\n",
        "!python -m spacy download pt_core_news_sm"
      ]
    },
    {
      "cell_type": "code",
      "execution_count": null,
      "metadata": {},
      "outputs": [],
      "source": [
        "# \u2b07\ufe0f Etapa 3: Importar bibliotecas e carregar modelo\n",
        "import json\n",
        "import spacy\n",
        "from compare_resonance import compute_icoer\n",
        "\n",
        "nlp = spacy.load(\"pt_core_news_sm\")"
      ]
    },
    {
      "cell_type": "markdown",
      "metadata": {},
      "source": [
        "### \u2705 Agora voc\u00ea pode usar `compute_icoer` com o JSON de entrada IA\n",
        "Exemplo:\n",
        "```python\n",
        "with open(\"ia_responses.json\", \"r\", encoding=\"utf-8\") as f:\n",
        "    responses = json.load(f)\n",
        "\n",
        "icoer_result = compute_icoer(responses, nlp)\n",
        "print(icoer_result)\n",
        "```"
      ]
    }
  ],
  "metadata": {
    "kernelspec": {
      "display_name": "Python 3",
      "language": "python",
      "name": "python3"
    },
    "language_info": {
      "name": "python",
      "version": "3.8"
    }
  },
  "nbformat": 4,
  "nbformat_minor": 5
}
