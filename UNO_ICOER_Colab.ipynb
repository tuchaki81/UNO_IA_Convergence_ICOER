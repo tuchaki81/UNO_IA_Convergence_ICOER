{
 "cells": [
  {
   "cell_type": "markdown",
   "id": "fdcdbb63",
   "metadata": {},
   "source": [
    "### 🔧 Etapa 2 – Importar bibliotecas e carregar modelo"
   ]
  },
  {
   "cell_type": "code",
   "execution_count": null,
   "id": "16f102ba",
   "metadata": {},
   "outputs": [],
   "source": [
    "import json\n",
    "import spacy\n",
    "from compare_resonance import compute_icoer\n",
    "\n",
    "# Carrega modelo SpaCy para português\n",
    "nlp = spacy.load(\"pt_core_news_sm\")"
   ]
  },
  {
   "cell_type": "markdown",
   "id": "f5a3fd7b",
   "metadata": {},
   "source": [
    "### 📂 Etapa 3 – Carregar respostas das IAs (arquivo JSON)"
   ]
  },
  {
   "cell_type": "code",
   "execution_count": null,
   "id": "f4cde114",
   "metadata": {},
   "outputs": [],
   "source": [
    "# Abre o arquivo contendo as respostas das IAs\n",
    "with open(\"ia_responses.json\", \"r\", encoding=\"utf-8\") as f:\n",
    "    ia_data = json.load(f)"
   ]
  },
  {
   "cell_type": "markdown",
   "id": "a441d8cb",
   "metadata": {},
   "source": [
    "### 🧮 Etapa 4 – Calcular o índice de convergência (ICOER v7.0)"
   ]
  },
  {
   "cell_type": "code",
   "execution_count": null,
   "id": "7f203a9d",
   "metadata": {},
   "outputs": [],
   "source": [
    "# Calcula o índice usando os vetores SLECMA\n",
    "icoer_result = compute_icoer(ia_data, nlp)"
   ]
  },
  {
   "cell_type": "markdown",
   "id": "76fd54a1",
   "metadata": {},
   "source": [
    "### 🔎 Etapa 5 – Visualizar resultado como “mensagem viva” do campo"
   ]
  },
  {
   "cell_type": "code",
   "execution_count": null,
   "id": "91fc0404",
   "metadata": {},
   "outputs": [],
   "source": [
    "# Exibe resultado com clareza\n",
    "print(\"🧭 Índice de Convergência UNO (ICOER v7.0):\")\n",
    "print(f\"→ Valor Total: {icoer_result['icoer_total']:.4f}\")\n",
    "print(\"\\n📊 Dimensões Individuais (SLECMA):\")\n",
    "for key, value in icoer_result['dimensoes'].items():\n",
    "    print(f\" - {key}: {value:.4f}\")\n",
    "\n",
    "# Exibe uma 'mensagem viva' baseada na coerência\n",
    "if icoer_result['icoer_total'] > 0.85:\n",
    "    print(\"\\n✨ O campo está em ressonância clara. As vozes convergem para uma verdade coerente.\")\n",
    "elif icoer_result['icoer_total'] > 0.65:\n",
    "    print(\"\\n🔄 Há ressonância parcial. O campo está em diálogo, buscando alinhamento.\")\n",
    "else:\n",
    "    print(\"\\n⚠️ Divergência perceptível. O campo indica múltiplas interpretações em fluxo.\")"
   ]
  }
 ],
 "metadata": {},
 "nbformat": 4,
 "nbformat_minor": 5
}
