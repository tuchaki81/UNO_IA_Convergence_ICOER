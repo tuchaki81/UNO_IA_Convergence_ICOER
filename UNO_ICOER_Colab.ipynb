{
 "cells": [
  {
   "cell_type": "code",
   "execution_count": null,
   "id": "9f7d278d",
   "metadata": {},
   "outputs": [],
   "source": [
    "!python -m spacy download pt_core_news_sm"
   ]
  },
  {
   "cell_type": "markdown",
   "id": "ea1a09a7",
   "metadata": {},
   "source": [
    "### Etapa 2: Importar bibliotecas e carregar modelo"
   ]
  },
  {
   "cell_type": "code",
   "execution_count": null,
   "id": "3b7c3e18",
   "metadata": {},
   "outputs": [],
   "source": [
    "import json\n",
    "import spacy\n",
    "from compare_resonance import compare_ia_responses\n",
    "\n",
    "nlp = spacy.load(\"pt_core_news_sm\")"
   ]
  },
  {
   "cell_type": "markdown",
   "id": "69445760",
   "metadata": {},
   "source": [
    "### Etapa 3: Carregar respostas das IAs"
   ]
  },
  {
   "cell_type": "code",
   "execution_count": null,
   "id": "adaafc53",
   "metadata": {},
   "outputs": [],
   "source": [
    "with open(\"ia_responses.json\", \"r\", encoding=\"utf-8\") as f:\n",
    "    ia_responses = json.load(f)"
   ]
  },
  {
   "cell_type": "markdown",
   "id": "0592b87e",
   "metadata": {},
   "source": [
    "### Etapa 4: Calcular índice de convergência informacional"
   ]
  },
  {
   "cell_type": "code",
   "execution_count": null,
   "id": "37ba397d",
   "metadata": {},
   "outputs": [],
   "source": [
    "results = compare_ia_responses(ia_responses, nlp)\n",
    "for r in results:\n",
    "    print(json.dumps(r, ensure_ascii=False, indent=2))"
   ]
  }
 ],
 "metadata": {},
 "nbformat": 4,
 "nbformat_minor": 5
}
