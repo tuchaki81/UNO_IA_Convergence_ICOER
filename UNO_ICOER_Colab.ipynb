{
 "cells": [
  {
   "cell_type": "markdown",
   "metadata": {},
   "source": [
    "# 💠 UNO Convergent Resonance\n",
    "### Colab Edition\n",
    "Execute este notebook para rodar o Índice de Convergência UNO (ICU) com ICOER v7.0."
   ]
  },
  {
   "cell_type": "code",
   "metadata": {},
   "execution_count": null,
   "outputs": [],
   "source": [
    "!pip install spacy"
   ]
  },
  {
   "cell_type": "code",
   "metadata": {},
   "execution_count": null,
   "outputs": [],
   "source": [
    "!python -m spacy download pt_core_news_sm"
   ]
  },
  {
   "cell_type": "code",
   "metadata": {},
   "execution_count": null,
   "outputs": [],
   "source": [
    "import json\n",
    "import spacy\n",
    "from compare_resonance import compute_icoer\n",
    "\n",
    "nlp = spacy.load(\"pt_core_news_sm\")"
   ]
  },
  {
   "cell_type": "markdown",
   "metadata": {},
   "source": [
    "### 🔄 Carregar respostas das IAs"
   ]
  },
  {
   "cell_type": "code",
   "metadata": {},
   "execution_count": null,
   "outputs": [],
   "source": [
    "with open('ia_responses.json', 'r', encoding='utf-8') as f:\n",
    "    responses = json.load(f)"
   ]
  },
  {
   "cell_type": "markdown",
   "metadata": {},
   "source": [
    "### 📊 Calcular ICOER para cada resposta"
   ]
  },
  {
   "cell_type": "code",
   "metadata": {},
   "execution_count": null,
   "outputs": [],
   "source": [
    "results = {}\n",
    "for ia, text in responses.items():\n",
    "    results[ia] = compute_icoer(text, nlp)\n",
    "\n",
    "results"
   ]
  },
  {
   "cell_type": "markdown",
   "metadata": {},
   "source": [
    "### 🌐 Exibir como 'mensagem viva' do campo"
   ]
  },
  {
   "cell_type": "code",
   "metadata": {},
   "execution_count": null,
   "outputs": [],
   "source": [
    "from IPython.display import Markdown\n",
    "\n",
    "def format_result(results):\n",
    "    out = \"## 🌌 Resposta do Campo\\n\"\n",
    "    for ia, score in results.items():\n",
    "        out += f\"**{ia}** → `ICOER`: **{score:.4f}**\\n\"\n",
    "    return Markdown(out)\n",
    "\n",
    "format_result(results)"
   ]
  }
 ],
 "metadata": {
  "kernelspec": {
   "display_name": "Python 3",
   "name": "python3"
  },
  "language_info": {
   "name": "python"
  }
 },
 "nbformat": 4,
 "nbformat_minor": 5
}
