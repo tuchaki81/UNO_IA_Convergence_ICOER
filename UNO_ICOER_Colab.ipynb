{
 "cells": [
  {
   "cell_type": "markdown",
   "id": "a87149bd",
   "metadata": {},
   "source": [
    "## Etapa 2 – Importar bibliotecas e carregar modelo"
   ]
  },
  {
   "cell_type": "code",
   "execution_count": null,
   "id": "85dc9388",
   "metadata": {},
   "outputs": [],
   "source": [
    "import json\n",
    "import spacy\n",
    "import compare_resonance\n",
    "\n",
    "# Carrega modelo SpaCy para português\n",
    "nlp = spacy.load(\"pt_core_news_sm\")"
   ]
  },
  {
   "cell_type": "markdown",
   "id": "eae08e12",
   "metadata": {},
   "source": [
    "## Etapa 3 – Calcular ICOER"
   ]
  },
  {
   "cell_type": "code",
   "execution_count": null,
   "id": "7c54caad",
   "metadata": {},
   "outputs": [],
   "source": [
    "# Executar cálculo do índice ICOER\n",
    "resultado = compare_resonance.compute_icoer()\n",
    "print(json.dumps(resultado, indent=4))"
   ]
  }
 ],
 "metadata": {
  "kernelspec": {
   "display_name": "Python 3",
   "language": "python",
   "name": "python3"
  },
  "language_info": {
   "name": "python",
   "version": "3.10"
  }
 },
 "nbformat": 4,
 "nbformat_minor": 5
}
